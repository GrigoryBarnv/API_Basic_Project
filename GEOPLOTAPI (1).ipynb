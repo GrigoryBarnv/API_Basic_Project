{
 "cells": [
  {
   "cell_type": "markdown",
   "id": "801da40d-ebb7-4d05-848b-174488adafaa",
   "metadata": {},
   "source": [
    "# Einleitung:"
   ]
  },
  {
   "cell_type": "markdown",
   "id": "9b20c4d1-b350-4dd6-aeac-c8dd7661c3cc",
   "metadata": {},
   "source": [
    "### Für unser Python-Projekt haben wir uns für den API der Website \"OpenLigaDB\" entschieden. Die Website ist eine öffentliche Datenbank für Sportdaten von verschiedenen Sportarten und einer Vielzahl von Ligen. Die Website bietet einen API mit mehreren Funktionen bzw. Request-URLs."
   ]
  },
  {
   "cell_type": "markdown",
   "id": "ce1436a0-918a-4356-812d-7881a6774177",
   "metadata": {},
   "source": [
    "### Eine der Grundlegenden Funktionen ist \"getavailableleagues\". Diese Funktion hat keine veränderbaren Parameter, sondern gibt (wie der Name schon aussagt) alle in der Datenbank verfügbaren Ligen zurück. Die API-Antwort enthält grundlegende Informationen, wie z.B. den Liga-Namen, die Liga-Saison und die Liga-ID. Letztere ist ein essenzieller Parameter für die Verwendung von vielen weitere Request-URLs. Aufgrund der Menge an verschiedenen Ligen, haben wir uns dafür entschieden uns auf einige wenige zu konzentrieren. Aufgrund der Relevanz und verfügbaren Daten, haben wir uns in dem Projekt für die 1., 2., und 3. Bundesliga entschieden."
   ]
  },
  {
   "cell_type": "markdown",
   "id": "a0ba2104-573b-483f-bfaa-bf46b0a172d6",
   "metadata": {},
   "source": [
    "### Installation der notwendigen Module"
   ]
  },
  {
   "cell_type": "code",
   "execution_count": 1,
   "id": "0b0c4581-a4ae-464e-baeb-7729d404639c",
   "metadata": {
    "jupyter": {
     "is_executing": true
    }
   },
   "outputs": [
    {
     "name": "stdout",
     "output_type": "stream",
     "text": [
      "\u001b[33mWARNING: Skipping /opt/conda/lib/python3.11/site-packages/nlopt-2.7.1.dist-info due to invalid metadata entry 'name'\u001b[0m\u001b[33m\n",
      "\u001b[0mCollecting folium\n",
      "  Obtaining dependency information for folium from https://files.pythonhosted.org/packages/be/2e/4dbe5577b7abcc8bc2fdef7e1b0e100ec654ecd47a2bede7ee1516f53f29/folium-0.19.7-py2.py3-none-any.whl.metadata\n",
      "  Downloading folium-0.19.7-py2.py3-none-any.whl.metadata (4.1 kB)\n",
      "Collecting branca>=0.6.0 (from folium)\n",
      "  Obtaining dependency information for branca>=0.6.0 from https://files.pythonhosted.org/packages/f8/9d/91cddd38bd00170aad1a4b198c47b4ed716be45c234e09b835af41f4e717/branca-0.8.1-py3-none-any.whl.metadata\n",
      "  Downloading branca-0.8.1-py3-none-any.whl.metadata (1.5 kB)\n",
      "Requirement already satisfied: jinja2>=2.9 in /opt/conda/lib/python3.11/site-packages (from folium) (3.1.2)\n",
      "Requirement already satisfied: numpy in /opt/conda/lib/python3.11/site-packages (from folium) (1.24.4)\n",
      "Requirement already satisfied: requests in /opt/conda/lib/python3.11/site-packages (from folium) (2.31.0)\n",
      "Requirement already satisfied: xyzservices in /opt/conda/lib/python3.11/site-packages (from folium) (2023.7.0)\n",
      "Requirement already satisfied: MarkupSafe>=2.0 in /opt/conda/lib/python3.11/site-packages (from jinja2>=2.9->folium) (2.1.3)\n",
      "Requirement already satisfied: charset-normalizer<4,>=2 in /opt/conda/lib/python3.11/site-packages (from requests->folium) (3.2.0)\n",
      "Requirement already satisfied: idna<4,>=2.5 in /opt/conda/lib/python3.11/site-packages (from requests->folium) (3.4)\n",
      "Requirement already satisfied: urllib3<3,>=1.21.1 in /opt/conda/lib/python3.11/site-packages (from requests->folium) (2.0.4)\n",
      "Requirement already satisfied: certifi>=2017.4.17 in /opt/conda/lib/python3.11/site-packages (from requests->folium) (2023.7.22)\n",
      "Downloading folium-0.19.7-py2.py3-none-any.whl (112 kB)\n",
      "\u001b[2K   \u001b[90m━━━━━━━━━━━━━━━━━━━━━━━━━━━━━━━━━━━━━━━━\u001b[0m \u001b[32m112.5/112.5 kB\u001b[0m \u001b[31m10.2 MB/s\u001b[0m eta \u001b[36m0:00:00\u001b[0m\n",
      "\u001b[?25hDownloading branca-0.8.1-py3-none-any.whl (26 kB)\n",
      "\u001b[33mWARNING: Skipping /opt/conda/lib/python3.11/site-packages/nlopt-2.7.1.dist-info due to invalid metadata entry 'name'\u001b[0m\u001b[33m\n",
      "\u001b[0mInstalling collected packages: branca, folium\n",
      "Successfully installed branca-0.8.1 folium-0.19.7\n",
      "\u001b[33mWARNING: Skipping /opt/conda/lib/python3.11/site-packages/nlopt-2.7.1.dist-info due to invalid metadata entry 'name'\u001b[0m\u001b[33m\n",
      "\u001b[0mRequirement already satisfied: requests in /opt/conda/lib/python3.11/site-packages (2.31.0)\n",
      "Requirement already satisfied: charset-normalizer<4,>=2 in /opt/conda/lib/python3.11/site-packages (from requests) (3.2.0)\n",
      "Requirement already satisfied: idna<4,>=2.5 in /opt/conda/lib/python3.11/site-packages (from requests) (3.4)\n",
      "Requirement already satisfied: urllib3<3,>=1.21.1 in /opt/conda/lib/python3.11/site-packages (from requests) (2.0.4)\n",
      "Requirement already satisfied: certifi>=2017.4.17 in /opt/conda/lib/python3.11/site-packages (from requests) (2023.7.22)\n",
      "\u001b[33mWARNING: Skipping /opt/conda/lib/python3.11/site-packages/nlopt-2.7.1.dist-info due to invalid metadata entry 'name'\u001b[0m\u001b[33m\n",
      "\u001b[0m\u001b[33mWARNING: Skipping /opt/conda/lib/python3.11/site-packages/nlopt-2.7.1.dist-info due to invalid metadata entry 'name'\u001b[0m\u001b[33m\n",
      "\u001b[0mRequirement already satisfied: ipywidgets in /opt/conda/lib/python3.11/site-packages (8.1.0)\n",
      "Requirement already satisfied: comm>=0.1.3 in /opt/conda/lib/python3.11/site-packages (from ipywidgets) (0.1.4)\n",
      "Requirement already satisfied: ipython>=6.1.0 in /opt/conda/lib/python3.11/site-packages (from ipywidgets) (8.14.0)\n",
      "Requirement already satisfied: traitlets>=4.3.1 in /opt/conda/lib/python3.11/site-packages (from ipywidgets) (5.9.0)\n",
      "Requirement already satisfied: widgetsnbextension~=4.0.7 in /opt/conda/lib/python3.11/site-packages (from ipywidgets) (4.0.8)\n",
      "Requirement already satisfied: jupyterlab-widgets~=3.0.7 in /opt/conda/lib/python3.11/site-packages (from ipywidgets) (3.0.8)\n",
      "Requirement already satisfied: backcall in /opt/conda/lib/python3.11/site-packages (from ipython>=6.1.0->ipywidgets) (0.2.0)\n",
      "Requirement already satisfied: decorator in /opt/conda/lib/python3.11/site-packages (from ipython>=6.1.0->ipywidgets) (5.1.1)\n",
      "Requirement already satisfied: jedi>=0.16 in /opt/conda/lib/python3.11/site-packages (from ipython>=6.1.0->ipywidgets) (0.19.0)\n",
      "Requirement already satisfied: matplotlib-inline in /opt/conda/lib/python3.11/site-packages (from ipython>=6.1.0->ipywidgets) (0.1.6)\n",
      "Requirement already satisfied: pickleshare in /opt/conda/lib/python3.11/site-packages (from ipython>=6.1.0->ipywidgets) (0.7.5)\n",
      "Requirement already satisfied: prompt-toolkit!=3.0.37,<3.1.0,>=3.0.30 in /opt/conda/lib/python3.11/site-packages (from ipython>=6.1.0->ipywidgets) (3.0.39)\n",
      "Requirement already satisfied: pygments>=2.4.0 in /opt/conda/lib/python3.11/site-packages (from ipython>=6.1.0->ipywidgets) (2.16.1)\n",
      "Requirement already satisfied: stack-data in /opt/conda/lib/python3.11/site-packages (from ipython>=6.1.0->ipywidgets) (0.6.2)\n",
      "Requirement already satisfied: pexpect>4.3 in /opt/conda/lib/python3.11/site-packages (from ipython>=6.1.0->ipywidgets) (4.8.0)\n",
      "Requirement already satisfied: parso<0.9.0,>=0.8.3 in /opt/conda/lib/python3.11/site-packages (from jedi>=0.16->ipython>=6.1.0->ipywidgets) (0.8.3)\n",
      "Requirement already satisfied: ptyprocess>=0.5 in /opt/conda/lib/python3.11/site-packages (from pexpect>4.3->ipython>=6.1.0->ipywidgets) (0.7.0)\n",
      "Requirement already satisfied: wcwidth in /opt/conda/lib/python3.11/site-packages (from prompt-toolkit!=3.0.37,<3.1.0,>=3.0.30->ipython>=6.1.0->ipywidgets) (0.2.6)\n",
      "Requirement already satisfied: executing>=1.2.0 in /opt/conda/lib/python3.11/site-packages (from stack-data->ipython>=6.1.0->ipywidgets) (1.2.0)\n",
      "Requirement already satisfied: asttokens>=2.1.0 in /opt/conda/lib/python3.11/site-packages (from stack-data->ipython>=6.1.0->ipywidgets) (2.2.1)\n",
      "Requirement already satisfied: pure-eval in /opt/conda/lib/python3.11/site-packages (from stack-data->ipython>=6.1.0->ipywidgets) (0.2.2)\n",
      "Requirement already satisfied: six in /opt/conda/lib/python3.11/site-packages (from asttokens>=2.1.0->stack-data->ipython>=6.1.0->ipywidgets) (1.16.0)\n",
      "\u001b[33mWARNING: Skipping /opt/conda/lib/python3.11/site-packages/nlopt-2.7.1.dist-info due to invalid metadata entry 'name'\u001b[0m\u001b[33m\n",
      "\u001b[0m\u001b[33mWARNING: Skipping /opt/conda/lib/python3.11/site-packages/nlopt-2.7.1.dist-info due to invalid metadata entry 'name'\u001b[0m\u001b[33m\n",
      "\u001b[0mRequirement already satisfied: matplotlib in /opt/conda/lib/python3.11/site-packages (3.7.2)\n",
      "Requirement already satisfied: contourpy>=1.0.1 in /opt/conda/lib/python3.11/site-packages (from matplotlib) (1.1.0)\n",
      "Requirement already satisfied: cycler>=0.10 in /opt/conda/lib/python3.11/site-packages (from matplotlib) (0.11.0)\n",
      "Requirement already satisfied: fonttools>=4.22.0 in /opt/conda/lib/python3.11/site-packages (from matplotlib) (4.42.1)\n",
      "Requirement already satisfied: kiwisolver>=1.0.1 in /opt/conda/lib/python3.11/site-packages (from matplotlib) (1.4.5)\n",
      "Requirement already satisfied: numpy>=1.20 in /opt/conda/lib/python3.11/site-packages (from matplotlib) (1.24.4)\n",
      "Requirement already satisfied: packaging>=20.0 in /opt/conda/lib/python3.11/site-packages (from matplotlib) (23.1)\n",
      "Requirement already satisfied: pillow>=6.2.0 in /opt/conda/lib/python3.11/site-packages (from matplotlib) (9.4.0)\n",
      "Requirement already satisfied: pyparsing<3.1,>=2.3.1 in /opt/conda/lib/python3.11/site-packages (from matplotlib) (3.0.9)\n",
      "Requirement already satisfied: python-dateutil>=2.7 in /opt/conda/lib/python3.11/site-packages (from matplotlib) (2.8.2)\n",
      "Requirement already satisfied: six>=1.5 in /opt/conda/lib/python3.11/site-packages (from python-dateutil>=2.7->matplotlib) (1.16.0)\n",
      "\u001b[33mWARNING: Skipping /opt/conda/lib/python3.11/site-packages/nlopt-2.7.1.dist-info due to invalid metadata entry 'name'\u001b[0m\u001b[33m\n",
      "\u001b[0m"
     ]
    }
   ],
   "source": [
    "!pip install folium\n",
    "!pip install requests \n",
    "!pip install ipywidgets\n",
    "!pip install matplotlib"
   ]
  },
  {
   "cell_type": "code",
   "execution_count": 2,
   "id": "65612e45-f5e0-4bc0-9ed5-afd30cd2a95b",
   "metadata": {},
   "outputs": [],
   "source": [
    "import requests\n",
    "import folium\n",
    "import ipywidgets as widgets\n",
    "from IPython.display import display, clear_output\n",
    "import pandas as pd\n",
    "import csv\n",
    "import matplotlib.pyplot as plt\n",
    "from scipy import stats\n",
    "from IPython.core.display import HTML"
   ]
  },
  {
   "cell_type": "markdown",
   "id": "1e8145cd-cd9e-47f1-945e-253fb380ff5f",
   "metadata": {},
   "source": [
    "# Forschungsfrage 1 "
   ]
  },
  {
   "cell_type": "markdown",
   "id": "ef6a9a1f-e177-4742-9cad-9e57bd28a540",
   "metadata": {},
   "source": [
    "###  Ziel ist es, eine interaktive Darstellung der Bundesliga-Daten zu erstellen, die es ermöglicht, verschiedene Statistiken (Punkte, Tore, Gegentore, Gewonnene, Verlorene und Unentschiedene) der Teams anzuzeigen. Gleichzeitig sollen statistische Tests durchgeführt werden, um festzustellen, welche Teams signifikant von den Durchschnittswerten abweichen."
   ]
  },
  {
   "cell_type": "code",
   "execution_count": 3,
   "id": "d809ac7e-55d7-49dc-a901-e4f0045f2c1e",
   "metadata": {},
   "outputs": [],
   "source": [
    "\n",
    "\n",
    "# Anlegen einer Datenstruktur, um die verfügbaren Saisons für die jeweilige Bundesliga zu speichern.\n",
    "\n",
    "bundesliga_data = {\n",
    "    \"bl1\": {\"name\": \"1. Bundesliga\", \"seasons\": []},\n",
    "    \"bl2\": {\"name\": \"2. Bundesliga\", \"seasons\": []},\n",
    "    \"bl3\": {\"name\": \"3. Bundesliga\", \"seasons\": []},\n",
    "}\n",
    "\n",
    "# Die einzelnen Funktionen bzw. Forschungsfragen bauen aufeinander auf, deshalb werden in globalen Variablen Informationen wie ausgewählte Liga (current_league), ausgewählte Saison (current_season) ausgewählte Tabelle (current_table) gespeichert.\n",
    "\n",
    "current_league = None\n",
    "current_season = None\n",
    "current_table = None\n",
    "\n",
    "# Abrufen der verfügbaren Saisons für alle Ligen, anschließend weredn die Ergebnisse gefiltert um nur die relevanten Daten zu erhalten (bei uns 1., 2., und 3. Bundesliga. Die verfügbaren Saisons werden in der Datenstruktur \"bundesliga_data\" gespeichert, wobei die Saisons in absteigender Reihenfolge sortiert werden. Falls ein Fehler auftritt, wird eine Fehlermeldung ausgegeben.\n",
    "\n",
    "def fetch_seasons_for_all_ligas():\n",
    "    url = \"https://api.openligadb.de/getavailableleagues\"\n",
    "    try:\n",
    "        response = requests.get(url)\n",
    "        response.raise_for_status()\n",
    "        leagues = response.json()\n",
    "        for league in leagues:\n",
    "            shortcut = league['leagueShortcut']\n",
    "            if shortcut in bundesliga_data:\n",
    "                # Füge nur Saisons ab 2008 hinzu\n",
    "                season = league['leagueSeason']\n",
    "                if int(season) >= 2008:\n",
    "                    bundesliga_data[shortcut][\"seasons\"].append(season)\n",
    "\n",
    "        for shortcut in bundesliga_data:\n",
    "            bundesliga_data[shortcut][\"seasons\"].sort(reverse=True)\n",
    "    except requests.RequestException as e:\n",
    "        print(f\"Fehler beim Abrufen der Daten: {e}\")"
   ]
  },
  {
   "cell_type": "code",
   "execution_count": 6,
   "id": "161d6777-15ea-4c99-9fe3-959ac87cb158",
   "metadata": {},
   "outputs": [
    {
     "data": {
      "application/vnd.jupyter.widget-view+json": {
       "model_id": "8863c5a555ca4f529f420b1500b4152e",
       "version_major": 2,
       "version_minor": 0
      },
      "text/plain": [
       "VBox(children=(Dropdown(description='Liga:', options=(('1. Bundesliga', 'bl1'), ('2. Bundesliga', 'bl2'), ('3.…"
      ]
     },
     "metadata": {},
     "output_type": "display_data"
    }
   ],
   "source": [
    "# Einsetzten der Parameter Liga-Abkürzung (z.B. bl1 für 1. Bundesliga und der Saison (z.B, 2019 für Saison 2019/2020) in die nächste API-URL, um die zugehörige Tabelle abzurufen. Falls ein Fehler auftritt, wird eine Fehlermeldung ausgegeben.\n",
    "\n",
    "def fetch_table(league_shortcut, season):\n",
    "    url = f\"https://api.openligadb.de/getbltable/{league_shortcut}/{season}\"\n",
    "    try:\n",
    "        response = requests.get(url)\n",
    "        response.raise_for_status()\n",
    "        return response.json()\n",
    "    except requests.RequestException as e:\n",
    "        print(f\"Fehler beim Abrufen der Tabelle: {e}\")\n",
    "        return []\n",
    "\n",
    "# Visualisierung der abgerufenen Tabelle, Darstellung als Grafik mit dem Modul \"Matplotlib\". Die Funktion nutzt den Parameter \"selected_stat\" um auszuwählen, ob die Punkte, Tore, Gegentore, Gewonnen, Verloren oder Unentschieden anzuzeigen. Außerdem wird der Durchschnitt von diesen Parametern angezeigt.\n",
    "\n",
    "def visualize_table_interactive(df, league_name, season, selected_stat):\n",
    "    stat_mapping = {\n",
    "        \"Punkte\": \"points\",\n",
    "        \"Tore\": \"goals\",\n",
    "        \"Gegentore\": \"opponentGoals\",\n",
    "        \"Gewonnen\": \"won\",\n",
    "        \"Verloren\": \"lost\",\n",
    "        \"Unentschieden\": \"draw\",\n",
    "    }\n",
    "\n",
    "    column_name = stat_mapping[selected_stat]\n",
    "    avg_value = df[column_name].mean()\n",
    "    threshold = df[column_name].std()  # Standardabweichung für den Vergleich berechnen\n",
    "\n",
    "    df_sorted = df.sort_values(by=column_name, ascending=True)\n",
    "\n",
    "    plt.figure(figsize=(12, 8))\n",
    "    plt.barh(df_sorted[\"teamName\"], df_sorted[column_name], color=\"skyblue\")\n",
    "    plt.axvline(avg_value, color=\"red\", linestyle=\"--\", label=f\"Durchschnitt: {avg_value:.2f}\")\n",
    "    plt.xlabel(selected_stat, fontsize=12)\n",
    "    plt.ylabel(\"Mannschaften\", fontsize=12)\n",
    "    plt.title(f\"{selected_stat} - {league_name}, Saison {season}\", fontsize=14)\n",
    "    plt.legend()\n",
    "    plt.grid(axis=\"x\", linestyle=\"--\", alpha=0.7)\n",
    "    plt.tight_layout()\n",
    "    plt.show()\n",
    "\n",
    "    # Teams, die signifikant mehr oder weniger Punkte/Tore haben\n",
    "    significant_teams = []\n",
    "    for index, row in df.iterrows():\n",
    "        team_value = row[column_name]\n",
    "        if team_value > avg_value + threshold:  # Signifikant mehr\n",
    "            significant_teams.append(f\"{row['teamName']} hat signifikant mehr {selected_stat.lower()}.\")\n",
    "        elif team_value < avg_value - threshold:  # Signifikant weniger\n",
    "            significant_teams.append(f\"{row['teamName']} hat signifikant weniger {selected_stat.lower()}.\")\n",
    "\n",
    "    # Ergebnisse ausgeben\n",
    "    if significant_teams:\n",
    "        print(\"Signifikante Abweichungen:\")\n",
    "        for team_result in significant_teams:\n",
    "            print(team_result)\n",
    "    else:\n",
    "        print(\"Keine signifikanten Abweichungen festgestellt.\")\n",
    "# GUI-Funktionen: Erstellung der Widgets (Dropdownmenü und Knopf zum Bestätigen). Um die Grafiken zu ändern wird die Funktion \"update_seasons\" genutzt. Die Funktion \"on_fetch_button_click\" ruft dann die Tabelle für die ausgewählte Liga und Saison ab und speichert sie in der Variable \"current_table\".\n",
    "\n",
    "def show_gui():\n",
    "    fetch_seasons_for_all_ligas()\n",
    "\n",
    "    league_dropdown = widgets.Dropdown(\n",
    "        options=[(data[\"name\"], shortcut) for shortcut, data in bundesliga_data.items()],\n",
    "        description=\"Liga:\"\n",
    "    )\n",
    "\n",
    "    season_dropdown = widgets.Dropdown(\n",
    "        options=[],\n",
    "        description=\"Saison:\"\n",
    "    )\n",
    "\n",
    "    fetch_button = widgets.Button(description=\"Anzeigen\")\n",
    "\n",
    "    stat_dropdown = widgets.Dropdown(\n",
    "        options=[\"Punkte\", \"Tore\", \"Gegentore\", \"Gewonnen\", \"Verloren\", \"Unentschieden\"],\n",
    "        description=\"Statistik:\"\n",
    "    )\n",
    "\n",
    "    chart_output = widgets.Output()\n",
    "\n",
    "    def update_seasons(change):\n",
    "        selected_league = change[\"new\"]\n",
    "        if selected_league in bundesliga_data:\n",
    "            season_dropdown.options = bundesliga_data[selected_league][\"seasons\"]\n",
    "\n",
    "    def on_fetch_button_click(b):\n",
    "        global current_league, current_season, current_table\n",
    "        with chart_output:\n",
    "            clear_output()\n",
    "            selected_league = league_dropdown.value\n",
    "            selected_season = season_dropdown.value\n",
    "            if selected_league and selected_season:\n",
    "                table = fetch_table(selected_league, selected_season)\n",
    "                if table:\n",
    "                    league_name = bundesliga_data[selected_league][\"name\"]\n",
    "                    current_league = selected_league\n",
    "                    current_season = selected_season\n",
    "                    current_table = pd.DataFrame(table)\n",
    "                    visualize_table_interactive(current_table, league_name, selected_season, stat_dropdown.value)\n",
    "                else:\n",
    "                    print(\"Keine Daten für die Tabelle verfügbar.\")\n",
    "            else:\n",
    "                print(\"Bitte Liga und Saison auswählen.\")\n",
    "\n",
    "    league_dropdown.observe(update_seasons, names=\"value\")\n",
    "    fetch_button.on_click(on_fetch_button_click)\n",
    "\n",
    "    display(widgets.VBox([\n",
    "        league_dropdown,\n",
    "        season_dropdown,\n",
    "        stat_dropdown,\n",
    "        fetch_button,\n",
    "        chart_output\n",
    "    ]))\n",
    "\n",
    "# GUI anzeigen\n",
    "show_gui()"
   ]
  },
  {
   "cell_type": "markdown",
   "id": "c1834fee-ecc0-4641-84a3-4601af791cff",
   "metadata": {},
   "source": [
    "# Forschungsfrage 2 "
   ]
  },
  {
   "cell_type": "markdown",
   "id": "016412df-222e-4a71-8a4a-12b2ad4c4220",
   "metadata": {},
   "source": [
    "### Auf Basis der in Forschungsfrage 1 ausgewählten Liga und Saison, werden die Mannschaften angezeigt die darin gespielt haben. Wählt man eine Mannschaft aus, so kann man für jeden der 34 Spieltage das Ergebnis sehen. Außerdem kann man sehen ob es ein Heim- oder Auswärtsspiel war und es wird durch eine kleine visuelle Darstellung gezeigt, ob die Mannschaft gewonnen, verloren oder unentschieden gespielt hat."
   ]
  },
  {
   "cell_type": "code",
   "execution_count": 7,
   "id": "292bd819-e092-44b3-a8d6-dab2fc0d84df",
   "metadata": {},
   "outputs": [
    {
     "data": {
      "application/vnd.jupyter.widget-view+json": {
       "model_id": "bdf51951beb94ff8a580202123a22283",
       "version_major": 2,
       "version_minor": 0
      },
      "text/plain": [
       "VBox(children=(Dropdown(description='Team:', layout=Layout(align_self='center', width='300px'), options=(('Ham…"
      ]
     },
     "metadata": {},
     "output_type": "display_data"
    }
   ],
   "source": [
    "# Die Matchdaten der ausgewählten Liga und Saison werden durch die Funktion \"get_match_data\" abgerufen\n",
    "\n",
    "def get_match_data(league, season):\n",
    "\n",
    "    url = f\"https://api.openligadb.de/getmatchdata/{league}/{season}\"\n",
    "    try:\n",
    "        response = requests.get(url)\n",
    "        response.raise_for_status()\n",
    "        return response.json()\n",
    "    except requests.RequestException as e:\n",
    "        print(f\"Fehler: Nutze die vorherige Funktion, um eine Liga und Saison auszuwählen!\")\n",
    "        return []\n",
    "\n",
    "# In der Funktion \"get_teams_from_matches\" werden die Mannschaften aus der API-Antwort extrahiert und mit der zugehörigen TeamID in einem Dictionary gespeichert.\n",
    "\n",
    "def get_teams_from_matches(match_data):\n",
    "\n",
    "    teams = {}\n",
    "    for match in match_data:\n",
    "        for team in [\"team1\", \"team2\"]:\n",
    "            team_id = match[team][\"teamId\"]\n",
    "            team_name = match[team][\"teamName\"]\n",
    "            teams[team_id] = team_name\n",
    "    return teams\n",
    "\n",
    "# Die Funktion \"filter_matches_by_team_and_round\" filtert die Spiele für ein Team und einen Spieltag aus den Match-Daten. Die gefilterten Spiele werden in einer Liste gespeichert.\n",
    "\n",
    "def filter_matches_by_team_and_round(match_data, team_id, round_number):\n",
    "\n",
    "    filtered_matches = []\n",
    "    for match in match_data:\n",
    "        if match[\"group\"][\"groupOrderID\"] == round_number and (\n",
    "            match[\"team1\"][\"teamId\"] == team_id or match[\"team2\"][\"teamId\"] == team_id\n",
    "        ):\n",
    "            filtered_matches.append(match)\n",
    "    return filtered_matches\n",
    "\n",
    "# Die Funktion \"update_match_display\" aktualisiert die Anzeige der Spiele basierend auf dem Dropdown-Menü für die Mannschaften und dem Slider für den ausgewählten Spieltag. Das Team wird mit dem zugehörigen Logo ausgewählt und darunter wird das Ergebnis des Spiels. Außerdem soll mit einem Smiley angezeigt werden, ob das Team gewonnen, verloren oder unentschieden gespielt hat.\n",
    "\n",
    "def update_match_display(change):\n",
    "\n",
    "    with output:\n",
    "        clear_output()\n",
    "        selected_team = team_dropdown.value\n",
    "        selected_round = round_slider.value\n",
    "        filtered_matches = filter_matches_by_team_and_round(match_data, selected_team, selected_round)\n",
    "        if filtered_matches:\n",
    "            for match in filtered_matches:\n",
    "                team1 = match[\"team1\"]\n",
    "                team2 = match[\"team2\"]\n",
    "                end_result = next(\n",
    "                    (result for result in match[\"matchResults\"] if result[\"resultName\"] == \"Endergebnis\"), None\n",
    "                )\n",
    "                if end_result:\n",
    "                    points_team1 = end_result[\"pointsTeam1\"]\n",
    "                    points_team2 = end_result[\"pointsTeam2\"]\n",
    "                    if points_team1 > points_team2:\n",
    "                        winner = team1\n",
    "                        loser = team2\n",
    "                        winner_emoji = \"<span style='font-size: 50px;'>😄</span>\"\n",
    "                        loser_emoji = \"<span style='font-size: 50px;'>😞</span>\"\n",
    "                    elif points_team2 > points_team1:\n",
    "                        winner = team2\n",
    "                        loser = team1\n",
    "                        winner_emoji = \"<span style='font-size: 50px;'>😄</span>\"\n",
    "                        loser_emoji = \"<span style='font-size: 50px;'>😞</span>\"\n",
    "                    else:\n",
    "                        winner = loser = None\n",
    "                        winner_emoji = loser_emoji = \"<span style='font-size: 50px;'>😐</span>\"\n",
    "\n",
    "                    display(HTML(f\"\"\"\n",
    "                    <div style=\"text-align: center; margin-bottom: 20px;\">\n",
    "                        <div style=\"display: inline-block; text-align: center; margin-right: 20px;\">\n",
    "                            <img src=\"{team1['teamIconUrl']}\" alt=\"{team1['teamName']}\" style=\"height: 100px;\">\n",
    "                            <p>{team1['teamName']}</p>\n",
    "                            { f'<p>{winner_emoji}</p>' if winner == team1 else f'<p>{loser_emoji}</p>' }\n",
    "                        </div>\n",
    "                        <div style=\"display: inline-block; text-align: center; font-size: 20px; font-weight: bold;\">\n",
    "                            VS.\n",
    "                        </div>\n",
    "                        <div style=\"display: inline-block; text-align: center; margin-left: 20px;\">\n",
    "                            <img src=\"{team2['teamIconUrl']}\" alt=\"{team2['teamName']}\" style=\"height: 100px;\">\n",
    "                            <p>{team2['teamName']}</p>\n",
    "                            { f'<p>{winner_emoji}</p>' if winner == team2 else f'<p>{loser_emoji}</p>' }\n",
    "                        </div>\n",
    "                    </div>\n",
    "                    <p style=\"text-align: center; font-size: 24px; font-weight: bold;\">\n",
    "                        Ergebnis: {points_team1} - {points_team2}\n",
    "                    </p>\n",
    "                    \"\"\"))\n",
    "        else:\n",
    "            print(f\"Keine Spiele für Spieltag {selected_round} gefunden.\")\n",
    "\n",
    "# Die Funktion \"show_match_data_gui\" ruft die vorherigen Funktionen ab und erstellt das Dropdown-Menü für die Teams sowie den Slider für die Spieltage. Beide sind mit der vorherige Funktion \"update_match_display\" verknüft damit Änderungen automatisch angezeigt werden.\n",
    "\n",
    "def show_match_data_gui(league, season):\n",
    "\n",
    "    global match_data\n",
    "    match_data = get_match_data(league, season)\n",
    "    if not match_data:\n",
    "        print(\"Keine Match-Daten verfügbar.\")\n",
    "        return\n",
    "\n",
    "    teams = get_teams_from_matches(match_data)\n",
    "\n",
    "    global team_dropdown, round_slider, output\n",
    "    team_dropdown = widgets.Dropdown(\n",
    "        options=[(name, team_id) for team_id, name in teams.items()],\n",
    "        description=\"Team:\",\n",
    "        layout=widgets.Layout(width='300px', align_self='center')\n",
    "    )\n",
    "    round_slider = widgets.IntSlider(\n",
    "        value=1,\n",
    "        min=1,\n",
    "        max=34,\n",
    "        step=1,\n",
    "        description=\"Spieltag:\",\n",
    "        continuous_update=False,\n",
    "        layout=widgets.Layout(width='500px', align_self='center')\n",
    "    )\n",
    "    output = widgets.Output()\n",
    "\n",
    "    team_dropdown.observe(update_match_display, names=\"value\")\n",
    "    round_slider.observe(update_match_display, names=\"value\")\n",
    "\n",
    "    display(widgets.VBox([team_dropdown, round_slider, output], layout=widgets.Layout(align_items='center')))\n",
    "\n",
    "show_match_data_gui(current_league, current_season)"
   ]
  },
  {
   "cell_type": "markdown",
   "id": "7ab1e1c6-376c-4964-8f6d-88ef1e18ba23",
   "metadata": {},
   "source": [
    "# Forschungsfrage 3 \n"
   ]
  },
  {
   "cell_type": "markdown",
   "id": "a19d93b0-ed76-4f1e-b92a-6a897933dcf6",
   "metadata": {},
   "source": [
    "### Diese Anwendung bietet eine anschauliche Darstellung der geografischen Verteilung der Mannschaften sowie deren sportlicher Statistiken"
   ]
  },
  {
   "cell_type": "markdown",
   "id": "4afee11b-f460-4acf-92c7-c9f970c562d0",
   "metadata": {},
   "source": [
    "### In diesem Teil des Projekts möchten wir die Standorte der Mannschaften auf einer Karte visualisieren. Außerdem soll es möglich sein, zwei Teams anhand der Anzahl ihrer gewonnenen Spiele zu vergleichen. Am Ende wird das Ergebnis präsentiert, um zu zeigen, welches Team in diesem Jahr die bessere Leistung erzielt hat."
   ]
  },
  {
   "cell_type": "markdown",
   "id": "e90802f5-2858-4b53-8b85-3de42a1bd402",
   "metadata": {},
   "source": [
    "#### Der Code unten erstellt ein Dictionary mit dem Namen team_locations. In diesem Dictionary sind die Fußballmannschaften aufgeführt, die von 2001 bis 2024 in der ersten, zweiten oder dritten Bundesliga gespielt haben. Zudem sind die Längengrade (Longitude) und Breitengrade (Latitude) der Städte angegeben, die die jeweiligen Mannschaften repräsentieren."
   ]
  },
  {
   "cell_type": "code",
   "execution_count": 8,
   "id": "633595de-e87a-4bbc-9f13-e9189d67f98f",
   "metadata": {},
   "outputs": [],
   "source": [
    "# Stadt und Koordinaten für die Teams\n",
    "team_locations = {\n",
    "    \"FC St. Pauli\": {\"city\": \"Hamburg\", \"lat\": 53.55, \"lon\": 9.96},\n",
    "    \"MSV Duisburg\": {\"city\": \"Duisburg\", \"lat\": 51.43, \"lon\": 6.76},\n",
    "    \"Wacker Burghausen\": {\"city\": \"Burghausen\", \"lat\": 48.16, \"lon\": 12.87},\n",
    "    \"SG Sonnenhof Großaspach\": {\"city\": \"Großaspach\", \"lat\": 48.89, \"lon\": 9.39},\n",
    "    \"SSV Ulm 1846\": {\"city\": \"Ulm\", \"lat\": 48.40, \"lon\": 9.98},\n",
    "    \"Jahn Regensburg\": {\"city\": \"Regensburg\", \"lat\": 49.01, \"lon\": 12.10},\n",
    "    \"SpVgg Oberfranken Bayreuth\": {\"city\": \"Bayreuth\", \"lat\": 49.94, \"lon\": 11.57},\n",
    "    \"Hannover II\": {\"city\": \"Hannover\", \"lat\": 52.37, \"lon\": 9.73},\n",
    "    \"1. FC Saarbrücken\": {\"city\": \"Saarbrücken\", \"lat\": 49.25, \"lon\": 7.00},\n",
    "    \"Bayer Leverkusen\": {\"city\": \"Leverkusen\", \"lat\": 51.00, \"lon\": 6.99},\n",
    "    \"Fortuna Düsseldorf\": {\"city\": \"Düsseldorf\", \"lat\": 51.22, \"lon\": 6.78},\n",
    "    \"VfB Lübeck\": {\"city\": \"Lübeck\", \"lat\": 53.87, \"lon\": 10.69},\n",
    "    \"SV Darmstadt 98\": {\"city\": \"Darmstadt\", \"lat\": 49.87, \"lon\": 8.65},\n",
    "    \"FC Bayern München\": {\"city\": \"München\", \"lat\": 48.14, \"lon\": 11.58},\n",
    "    \"KFC Uerdingen 05\": {\"city\": \"Krefeld\", \"lat\": 51.34, \"lon\": 6.56},\n",
    "    \"Arminia Bielefeld\": {\"city\": \"Bielefeld\", \"lat\": 50.48, \"lon\": 8.53},\n",
    "    \"RB Leipzig\": {\"city\": \"Leipzig\", \"lat\": 51.34, \"lon\": 12.37},\n",
    "    \"SV Wehen Wiesbaden\": {\"city\": \"Wiesbaden\", \"lat\": 50.08, \"lon\": 8.25},\n",
    "    \"SC Freiburg II\": {\"city\": \"Freiburg im Breisgau\", \"lat\": 47.99, \"lon\": 7.85},\n",
    "    \"Rot-Weiss Oberhausen\": {\"city\": \"Oberhausen\", \"lat\": 51.48, \"lon\": 6.85},\n",
    "    \"Hertha BSC\": {\"city\": \"Berlin\", \"lat\": 52.52, \"lon\": 13.41},\n",
    "    \"SV Waldhof Mannheim\": {\"city\": \"Mannheim\", \"lat\": 49.48, \"lon\": 8.46},\n",
    "    \"SC Freiburg\": {\"city\": \"Freiburg im Breisgau\", \"lat\": 47.99, \"lon\": 7.85},\n",
    "    \"Holstein Kiel\": {\"city\": \"Kiel\", \"lat\": 54.32, \"lon\": 10.13},\n",
    "    \"Sportfreunde Lotte\": {\"city\": \"Lotte\", \"lat\": 52.45, \"lon\": 7.88},\n",
    "    \"1. FC Heidenheim 1846\": {\"city\": \"Heidenheim an der Brenz\", \"lat\": 48.66, \"lon\": 10.15},\n",
    "    \"TSG 1899 Hoffenheim\": {\"city\": \"Hoffenheim\", \"lat\": 49.14, \"lon\": 8.83},\n",
    "    \"Kickers Emden\": {\"city\": \"Emden\", \"lat\": 53.37, \"lon\": 7.21},\n",
    "    \"Chemnitzer FC\": {\"city\": \"Chemnitz\", \"lat\": 50.83, \"lon\": 12.92},\n",
    "    \"Werder Bremen\": {\"city\": \"Bremen\", \"lat\": 53.08, \"lon\": 8.80},\n",
    "    \"FC Schalke 04\": {\"city\": \"Gelsenkirchen\", \"lat\": 51.50, \"lon\": 7.20},\n",
    "     \"1. FC Kaiserslautern\": {\"city\": \"Kaiserslautern\", \"lat\": 49.44, \"lon\": 7.75},\n",
    "    \"Kickers Offenbach\": {\"city\": \"Offenbach am Main\", \"lat\": 50.09, \"lon\": 8.77},\n",
    "    \"Würzburger Kickers\": {\"city\": \"Würzburg\", \"lat\": 49.79, \"lon\": 9.93},\n",
    "    \"Fortuna Köln\": {\"city\": \"Köln\", \"lat\": 50.94, \"lon\": 6.96},\n",
    "    \"SV Elversberg 07\": {\"city\": \"Elversberg\", \"lat\": 49.31, \"lon\": 7.15},\n",
    "    \"FC Erzgebirge Aue\": {\"city\": \"Aue\", \"lat\": 50.59, \"lon\": 12.67},\n",
    "    \"FC Kickers Würzburg\": {\"city\": \"Würzburg\", \"lat\": 49.79, \"lon\": 9.93},\n",
    "    \"Borussia Mönchengladbach\": {\"city\": \"Mönchengladbach\", \"lat\": 51.18, \"lon\": 6.43},\n",
    "    \"Karlsruher SC\": {\"city\": \"Karlsruhe\", \"lat\": 49.01, \"lon\": 8.39},\n",
    "    \"1. FSV Mainz 05 II\": {\"city\": \"Mainz\", \"lat\": 50.00, \"lon\": 8.27},\n",
    "    \"VfL Bochum\": {\"city\": \"Bochum\", \"lat\": 51.48, \"lon\": 7.21},\n",
    "    \"FC Viktoria Köln\": {\"city\": \"Köln\", \"lat\": 50.94, \"lon\": 6.96},\n",
    "    \"1. FSV Mainz 05\": {\"city\": \"Mainz\", \"lat\": 50.00, \"lon\": 8.27},\n",
    "    \"Hamburger SV\": {\"city\": \"Hamburg\", \"lat\": 53.55, \"lon\": 9.96},\n",
    "    \"FC Bayern München II\": {\"city\": \"München\", \"lat\": 48.14, \"lon\": 11.58},\n",
    "    \"FC Ingolstadt 04\": {\"city\": \"Ingolstadt\", \"lat\": 48.74, \"lon\": 11.43},\n",
    "    \"1. FC Nürnberg\": {\"city\": \"Nürnberg\", \"lat\": 49.45, \"lon\": 11.06},\n",
    "    \"VfL Osnabrück\": {\"city\": \"Osnabrück\", \"lat\": 52.28, \"lon\": 8.05},\n",
    "    \"Borussia Dortmund\": {\"city\": \"Dortmund\", \"lat\": 51.51, \"lon\": 7.46},\n",
    "    \"SV Sandhausen\": {\"city\": \"Sandhausen\", \"lat\": 49.35, \"lon\": 8.63},\n",
    "      \"Stuttgarter Kickers\": {\"city\": \"Stuttgart\", \"lat\": 48.77, \"lon\": 9.18},\n",
    "    \"SV Babelsberg 03\": {\"city\": \"Potsdam\", \"lat\": 52.39, \"lon\": 12.93},\n",
    "    \"Preußen Münster\": {\"city\": \"Münster\", \"lat\": 51.96, \"lon\": 7.63},\n",
    "    \"SG Dynamo Dresden\": {\"city\": \"Dresden\", \"lat\": 51.05, \"lon\": 13.73},\n",
    "    \"Werder Bremen II\": {\"city\": \"Bremen\", \"lat\": 53.08, \"lon\": 8.80},\n",
    "    \"Erzgebirge Aue\": {\"city\": \"Aue\", \"lat\": 50.59, \"lon\": 12.67},\n",
    "    \"Hannover 96\": {\"city\": \"Hannover\", \"lat\": 52.37, \"lon\": 9.73},\n",
    "    \"Borussia Dortmund II\": {\"city\": \"Dortmund\", \"lat\": 51.51, \"lon\": 7.46},\n",
    "    \"SC Paderborn 07\": {\"city\": \"Paderborn\", \"lat\": 51.72, \"lon\": 8.75},\n",
    "    \"1. FC Köln\": {\"city\": \"Köln\", \"lat\": 50.94, \"lon\": 6.96},\n",
    "    \"1. FC Magdeburg\": {\"city\": \"Magdeburg\", \"lat\": 52.13, \"lon\": 11.63},\n",
    "    \"Eintracht Frankfurt\": {\"city\": \"Frankfurt am Main\", \"lat\": 50.11, \"lon\": 8.68},\n",
    "    \"SC Verl\": {\"city\": \"Verl\", \"lat\": 51.91, \"lon\": 8.63},\n",
    "    \"Türkgücü München\": {\"city\": \"München\", \"lat\": 48.14, \"lon\": 11.58},\n",
    "    \"FC Rot-Weiß Erfurt\": {\"city\": \"Erfurt\", \"lat\": 50.98, \"lon\": 11.03},\n",
    "    \"Rot-Weiß Erfurt\": {\"city\": \"Erfurt\", \"lat\": 50.98, \"lon\": 11.03},  # Duplikat\n",
    "    \"FC Viktoria 1889 Berlin\": {\"city\": \"Berlin\", \"lat\": 52.52, \"lon\": 13.41},\n",
    "    \"VfB Oldenburg\": {\"city\": \"Oldenburg\", \"lat\": 53.14, \"lon\": 8.21},\n",
    "    \"VfB Stuttgart II\": {\"city\": \"Stuttgart\", \"lat\": 48.77, \"lon\": 9.18},\n",
    "    \"TSG 1899 Hoffenheim\": {\"city\": \"Hoffenheim\", \"lat\": 49.14, \"lon\": 8.83},\n",
    "    \"Rot-Weiss Ahlen\": {\"city\": \"Ahlen\", \"lat\": 51.75, \"lon\": 8.07},\n",
    "    \"Alemannia Aachen\": {\"city\": \"Aachen\", \"lat\": 50.77, \"lon\": 6.09},\n",
    "    \"SC Fortuna Köln\": {\"city\": \"Köln\", \"lat\": 50.94, \"lon\": 6.96},\n",
    "    \"FC Augsburg\": {\"city\": \"Augsburg\", \"lat\": 48.40, \"lon\": 10.98},\n",
    "    \"SpVgg Bayreuth\": {\"city\": \"Bayreuth\", \"lat\": 49.94, \"lon\": 11.57},\n",
    "    \"Rot-Weiss Essen\": {\"city\": \"Essen\", \"lat\": 51.45, \"lon\": 7.02},\n",
    "    \"SV Meppen\": {\"city\": \"Meppen\", \"lat\": 52.69, \"lon\": 7.29},\n",
    "    \"FC Energie Cottbus\": {\"city\": \"Cottbus\", \"lat\": 51.76, \"lon\": 14.33},\n",
    "    \"VfL Wolfsburg\": {\"city\": \"Wolfsburg\", \"lat\": 52.42, \"lon\": 10.79},\n",
    "    \"TuS Koblenz\": {\"city\": \"Koblenz\", \"lat\": 50.36, \"lon\": 7.58},\n",
    "     \"FC Hansa Rostock\": {\"city\": \"Rostock\", \"lat\": 54.09, \"lon\": 12.08},\n",
    "    \"FSV Zwickau\": {\"city\": \"Zwickau\", \"lat\": 50.70, \"lon\": 12.50},\n",
    "    \"Wuppertaler SV\": {\"city\": \"Wuppertal\", \"lat\": 51.27, \"lon\": 7.19},\n",
    "    \"Eintracht Braunschweig\": {\"city\": \"Braunschweig\", \"lat\": 52.26, \"lon\": 10.52},\n",
    "    \"TSV Havelse\": {\"city\": \"Garbsen\", \"lat\": 52.44, \"lon\": 9.58},\n",
    "    \"VfB Stuttgart\": {\"city\": \"Stuttgart\", \"lat\": 48.77, \"lon\": 9.18},\n",
    "    \"1. FC Union Berlin\": {\"city\": \"Berlin\", \"lat\": 52.52, \"lon\": 13.49},\n",
    "    \"VfR Aalen\": {\"city\": \"Aalen\", \"lat\": 48.84, \"lon\": 10.09},\n",
    "    \"SpVgg Greuther Fürth\": {\"city\": \"Fürth\", \"lat\": 49.47, \"lon\": 10.99},\n",
    "    \"SpVgg Unterhaching\": {\"city\": \"Unterhaching\", \"lat\": 48.02, \"lon\": 11.59},\n",
    "    \"TSV 1860 München\": {\"city\": \"München\", \"lat\": 48.14, \"lon\": 11.58},\n",
    "    \"FC Carl Zeiss Jena\": {\"city\": \"Jena\", \"lat\": 50.93, \"lon\": 11.58},\n",
    "    \"FSV Frankfurt\": {\"city\": \"Frankfurt am Main\", \"lat\": 50.11, \"lon\": 8.68},\n",
    "    \"Hallescher FC\": {\"city\": \"Halle (Saale)\", \"lat\": 51.47, \"lon\": 11.97},\n",
    "    \"SSV Ulm 1846\": {\"city\": \"Ulm\", \"lat\": 48.40, \"lon\": 9.98},\n",
    "}"
   ]
  },
  {
   "cell_type": "markdown",
   "id": "318e9d8b-d2e7-4407-90dd-ca2df6ca3a26",
   "metadata": {},
   "source": [
    "#### Diese Funktion ist erforderlich für die spätere Darstellung der Teams und die URLs der Logos, die für die visuelle Präsentation im Graphen benötigt werden. In diesem Codeabschnitt rufen wir eine API ab und erstellen eine CSV-Datei, die die Teamnamen, die kurzen Namen der Mannschaften und die Links zu deren Logos enthält."
   ]
  },
  {
   "cell_type": "code",
   "execution_count": 9,
   "id": "02e04d68-da25-441c-b8eb-df498360555d",
   "metadata": {},
   "outputs": [
    {
     "name": "stdout",
     "output_type": "stream",
     "text": [
      "Die Teams wurden erfolgreich gespeichert in bundesliga_teams_with_images.csv.\n"
     ]
    }
   ],
   "source": [
    "\n",
    "# Datei zur Speicherung der Teams\n",
    "output_file = \"bundesliga_teams_with_images.csv\"\n",
    "\n",
    "# Liga-Kürzel\n",
    "bundesliga_ids = [\"bl1\", \"bl2\", \"bl3\"]\n",
    "jahre = range(2008, 2025)  # Jahre von 2008 bis 2024\n",
    "\n",
    "# Set für Duplikate\n",
    "unique_teams = set()\n",
    "\n",
    "# Loop durch die Ligen und Jahre\n",
    "for liga in bundesliga_ids:\n",
    "    for jahr in jahre:\n",
    "        url = f\"https://api.openligadb.de/getavailableteams/{liga}/{jahr}\"\n",
    "        response = requests.get(url)\n",
    "        \n",
    "        if response.status_code == 200:\n",
    "            teams = response.json()\n",
    "            # Extrahiere teamName, shortName und teamIconUrl\n",
    "            for team in teams:\n",
    "                team_name = team[\"teamName\"]\n",
    "                short_name = team[\"shortName\"]\n",
    "                team_icon_url = team[\"teamIconUrl\"]\n",
    "                unique_teams.add((team_name, short_name, team_icon_url))\n",
    "        else:\n",
    "            print(f\"Fehler beim Abrufen der Teams für {liga} im Jahr {jahr}: {response.status_code}\")\n",
    "\n",
    "# Speichern der einzigartigen Teams in einer CSV-Datei\n",
    "with open(output_file, mode='w', newline='', encoding='utf-8') as file:\n",
    "    writer = csv.writer(file)\n",
    "    writer.writerow([\"Teamname\", \"Shortname\", \"Bild-URL\"])  # Kopfzeile einfügen\n",
    "    \n",
    "    for team in unique_teams:\n",
    "        writer.writerow(team)\n",
    "\n",
    "print(f\"Die Teams wurden erfolgreich gespeichert in {output_file}.\")"
   ]
  },
  {
   "cell_type": "markdown",
   "id": "55fdb319-e75c-4128-bf4c-486464c3e23a",
   "metadata": {},
   "source": [
    "#### Wir laden den Inhalt der zuvor gespeicherten CSV-Datei und übertragen die Spalte, die die Links zu den Logos der Teams enthält, in das Dictionary namens team_locations. Am Ende erhalten wir ein aktualisiertes Dictionary, das die Teamnamen, die Koordinaten und die Städte der Mannschaften umfasst."
   ]
  },
  {
   "cell_type": "code",
   "execution_count": 10,
   "id": "d263a54a-0a84-467e-9850-aac200ee6248",
   "metadata": {},
   "outputs": [],
   "source": [
    "\n",
    "\n",
    "# CSV-Datei laden\n",
    "csv_file_path = 'bundesliga_teams_with_images.csv'  # Pfad zur CSV-Datei\n",
    "data = pd.read_csv(csv_file_path)\n",
    "\n",
    "# Erstelle ein Dictionary für die Teamnamen und ihre Bild-URLs\n",
    "team_image_urls = {row['Teamname']: row['Bild-URL'] for index, row in data.iterrows()}\n",
    "\n",
    "\n",
    "# Aktualisiere die team_locations mit den Bild-URLs\n",
    "for team, location in team_locations.items():\n",
    "    if team in team_image_urls:\n",
    "        location['image_url'] = team_image_urls[team]  # Füge die Bild-URL hinzu\n",
    "    else:\n",
    "        location['image_url'] = None  # Falls kein Bild-URL vorhanden ist\n"
   ]
  },
  {
   "cell_type": "markdown",
   "id": "bc5b5a25-3768-41dd-aa9a-a13c8a6a3c38",
   "metadata": {},
   "source": [
    "#### In diesem Abschnitt wird eine interaktive Anwendung entwickelt, die es Benutzern ermöglicht, Daten über Fußballmannschaften aus den drei deutschen Ligen abzurufen. Zu Beginn werden die verfügbaren Saisons ab 2008 (da für vorherige Jahre keine Spielerdaten vorliegen) von einer API abgerufen und in einer strukturierten Datenbank gespeichert. Benutzer können Ligen und Jahre über Dropdown-Menüs auswählen, wodurch eine Karte mit den Teams und deren Standorten angezeigt wird. Marker auf der Karte repräsentieren die Teams und zeigen beim Klicken Informationen wie die Anzahl der gewonnenen, verlorenen und unentschiedenen Spiele an. Zusätzlich haben die Benutzer die Möglichkeit, unter der Karte zwei Teams auszuwählen, um deren Leistungen zu vergleichen."
   ]
  },
  {
   "cell_type": "markdown",
   "id": "e4bc224f-bffe-4df1-b396-0ddc4b5e346d",
   "metadata": {},
   "source": [
    "### Die Funktion erstellt eine auf Deutschland zentrierte Karte mit der Folium-Bibliothek und ruft Daten zu den Fußballteams aus einer API ab. Nach dem erfolgreichen Abruf werden die Teamnamen in Dropdown-Menüs für den Vergleich eingepflegt. Für jedes Team wird ein Marker auf der Karte platziert, der den Teamnamen und die Ergebnisse (Gewonnen, Verloren, Unentschieden) zeigt. Diese Informationen sind in einem Popup sichtbar, wenn der Benutzer den Marker anklickt. Schließlich wird die fertige Karte angezeigt.\n"
   ]
  },
  {
   "cell_type": "code",
   "execution_count": 11,
   "id": "710bd52d-4c10-4ccd-9687-f8e34013a8e8",
   "metadata": {},
   "outputs": [],
   "source": [
    "# Initialer Abruf der Saisons\n",
    "fetch_seasons_for_all_ligas()\n",
    "\n",
    "# Erstelle Dropdown für Ligen\n",
    "liga_dropdown = widgets.Dropdown(\n",
    "    options=[(bundesliga_data[key][\"name\"], key) for key in bundesliga_data],\n",
    "    description='Liga:'\n",
    ")\n",
    "\n",
    "# Erstelle Dropdown für Jahre\n",
    "jahr_dropdown = widgets.Dropdown(\n",
    "    options=bundesliga_data[liga_dropdown.value][\"seasons\"],\n",
    "    description='Jahr:'\n",
    ")\n",
    "\n",
    "# Output-Widget zur Anzeige der Karte\n",
    "output_map = widgets.Output()\n",
    "\n",
    "# Dropdown-Menüs für Team-Vergleich\n",
    "team1_dropdown = widgets.Dropdown(description='Team 1:')\n",
    "team2_dropdown = widgets.Dropdown(description='Team 2:')\n",
    "\n",
    "# Ausgabe-Widget für Ergebnisse\n",
    "output_comparison = widgets.Output()\n",
    "\n",
    "# Gruppe von Teams\n",
    "all_teams = []\n",
    "\n",
    "# Funktion zum Abrufen und Anzeigen der Karte\n",
    "def fetch_data_and_display_map(liga, jahr):\n",
    "    global all_teams\n",
    "    with output_map:\n",
    "        clear_output()\n",
    "        \n",
    "        # Erstellen Sie eine Folium-Karte, die auf Deutschland zentriert ist\n",
    "        m = folium.Map(location=[51.1657, 10.4515], zoom_start=6)  # Deutschland-Zentrum\n",
    "\n",
    "        # API-Anfrage für die Teamdaten\n",
    "        url = f'https://api.openligadb.de/getbltable/{liga}/{jahr}'\n",
    "        response = requests.get(url)\n",
    "\n",
    "        if response.status_code == 200:\n",
    "            data = response.json()\n",
    "            all_teams = [team['teamName'] for team in data]  # Alle Teamnamen sammeln\n",
    "            team1_dropdown.options = all_teams  # Dropdown-Optionen setzen\n",
    "            team2_dropdown.options = all_teams  # Dropdown-Optionen setzen\n",
    "            \n",
    "            for team in data:\n",
    "                team_name = team['teamName']\n",
    "                won = team['won']\n",
    "                lost = team['lost']\n",
    "                draw = team['draw']\n",
    "                \n",
    "                # Überprüfen, ob das Team in team_locations vorhanden ist\n",
    "                if team_name in team_locations:\n",
    "                    location = team_locations[team_name]\n",
    "                    \n",
    "                    # Benutzerdefiniertes Icon verwenden\n",
    "                    icon = folium.CustomIcon(icon_image=location['image_url'], icon_size=(60, 60))\n",
    "\n",
    "                    # Marker mit benutzerdefiniertem Icon und Team-Informationen hinzufügen\n",
    "                    folium.Marker(\n",
    "                        location=[location['lat'], location['lon']],\n",
    "                        icon=icon,\n",
    "                        popup=folium.Popup(\n",
    "                            f\"<b>{team_name}</b><br>\"\n",
    "                            f\"Gewonnen: {won}<br>\"\n",
    "                            f\"Verloren: {lost}<br>\"\n",
    "                            f\"Unentschieden: {draw}\",\n",
    "                            max_width=200\n",
    "                        ),\n",
    "                        tooltip=team_name\n",
    "                    ).add_to(m)\n",
    "\n",
    "            # Karte anzeigen\n",
    "            display(m)\n",
    "        else:\n",
    "            print(\"Fehler beim Abrufen der Daten:\", response.status_code)\n",
    "            \n",
    "            "
   ]
  },
  {
   "cell_type": "markdown",
   "id": "148f0126-63d2-41ea-a1a3-bdc529f28cdf",
   "metadata": {},
   "source": [
    "#### Die Funktion on_change_liga aktualisiert die verfügbaren Jahre im Dropdown-Menü, wenn der Benutzer eine neue Liga auswählt, und setzt das erste Jahr als Standardwert. Die Funktion on_change_jahr ruft die Kartenanzeige auf, wenn sich das ausgewählte Jahr ändert. Beide Funktionen sind so eingerichtet, dass sie auf Änderungen in den Dropdown-Menüs reagieren."
   ]
  },
  {
   "cell_type": "code",
   "execution_count": 12,
   "id": "287307e3-b798-4dcb-9048-b1649f18cb84",
   "metadata": {},
   "outputs": [],
   "source": [
    "def on_change_liga(change):\n",
    "    new_liga = change['new']\n",
    "    jahre = bundesliga_data[new_liga][\"seasons\"]\n",
    "    jahr_dropdown.options = jahre\n",
    "    jahr_dropdown.value = jahre[0] if jahre else None\n",
    "\n",
    "def on_change_jahr(change):\n",
    "    fetch_data_and_display_map(liga_dropdown.value, jahr_dropdown.value)\n",
    "\n",
    "liga_dropdown.observe(on_change_liga, names='value')\n",
    "jahr_dropdown.observe(on_change_jahr, names='value')\n"
   ]
  },
  {
   "cell_type": "code",
   "execution_count": null,
   "id": "6bf40a6e-422e-4da2-8eaf-5d06f1a1a668",
   "metadata": {},
   "outputs": [],
   "source": []
  },
  {
   "cell_type": "markdown",
   "id": "a6c1ee1b-b4b3-49c5-8569-9317af12e347",
   "metadata": {},
   "source": [
    "#### Der Code fügt einen \"Vergleichen\"-Button hinzu, der es Benutzern ermöglicht, zwei Fußballteams zu vergleichen. Bei einem Klick sendet die Funktion compare_teams eine Anfrage an die API, um die Anzahl der gewonnenen Spiele beider Teams abzurufen und das Ergebnis anzuzeigen. Bei Fehlern oder nicht gefundenen Teams werden entsprechende Meldungen ausgegeben."
   ]
  },
  {
   "cell_type": "code",
   "execution_count": 13,
   "id": "de60ba16-9e13-401c-82d0-677a700e2d03",
   "metadata": {},
   "outputs": [
    {
     "data": {
      "application/vnd.jupyter.widget-view+json": {
       "model_id": "003f68f952ea4e5fa1f31af29f7655d8",
       "version_major": 2,
       "version_minor": 0
      },
      "text/plain": [
       "Dropdown(description='Liga:', options=(('1. Bundesliga', 'bl1'), ('2. Bundesliga', 'bl2'), ('3. Bundesliga', '…"
      ]
     },
     "metadata": {},
     "output_type": "display_data"
    },
    {
     "data": {
      "application/vnd.jupyter.widget-view+json": {
       "model_id": "7a929408292a4f51b8780f158b772ace",
       "version_major": 2,
       "version_minor": 0
      },
      "text/plain": [
       "Dropdown(description='Jahr:', options=('2025', '2025', '2025', '2024', '2024', '2024', '2023', '2023', '2023',…"
      ]
     },
     "metadata": {},
     "output_type": "display_data"
    },
    {
     "data": {
      "application/vnd.jupyter.widget-view+json": {
       "model_id": "7ccaf7242a024dfeb6007821faadc735",
       "version_major": 2,
       "version_minor": 0
      },
      "text/plain": [
       "Output()"
      ]
     },
     "metadata": {},
     "output_type": "display_data"
    },
    {
     "data": {
      "application/vnd.jupyter.widget-view+json": {
       "model_id": "77b22ffe25e04e4a85d92cfdb9bf6737",
       "version_major": 2,
       "version_minor": 0
      },
      "text/plain": [
       "Dropdown(description='Team 1:', options=(), value=None)"
      ]
     },
     "metadata": {},
     "output_type": "display_data"
    },
    {
     "data": {
      "application/vnd.jupyter.widget-view+json": {
       "model_id": "62b9dd965be948beaa17eb2be7f838c1",
       "version_major": 2,
       "version_minor": 0
      },
      "text/plain": [
       "Dropdown(description='Team 2:', options=(), value=None)"
      ]
     },
     "metadata": {},
     "output_type": "display_data"
    },
    {
     "data": {
      "application/vnd.jupyter.widget-view+json": {
       "model_id": "63ddd69bb2c14adeb76bf0cce2fda67b",
       "version_major": 2,
       "version_minor": 0
      },
      "text/plain": [
       "Button(description='Vergleichen', style=ButtonStyle())"
      ]
     },
     "metadata": {},
     "output_type": "display_data"
    },
    {
     "data": {
      "application/vnd.jupyter.widget-view+json": {
       "model_id": "7952d59bdfdd4058b3fcd6129b45fd0d",
       "version_major": 2,
       "version_minor": 0
      },
      "text/plain": [
       "Output()"
      ]
     },
     "metadata": {},
     "output_type": "display_data"
    }
   ],
   "source": [
    "# Vergleichsbutton hinzufügen\n",
    "compare_button = widgets.Button(description=\"Vergleichen\")\n",
    "\n",
    "\n",
    "# Vergleichsfunktion\n",
    "def compare_teams(b):\n",
    "    team1 = team1_dropdown.value\n",
    "    team2 = team2_dropdown.value\n",
    "    output_comparison.clear_output()  # Vorherige Ausgabe löschen\n",
    "    with output_comparison:\n",
    "        if team1 and team2:\n",
    "            url = f'https://api.openligadb.de/getbltable/{liga_dropdown.value}/{jahr_dropdown.value}'\n",
    "            response = requests.get(url)\n",
    "            if response.status_code == 200:\n",
    "                data = response.json()\n",
    "                team1_data = next((team for team in data if team['teamName'] == team1), None)\n",
    "                team2_data = next((team for team in data if team['teamName'] == team2), None)\n",
    "                \n",
    "                if team1_data and team2_data:\n",
    "                    team1_won = team1_data['won']\n",
    "                    team2_won = team2_data['won']\n",
    "                    \n",
    "                    if team1_won > team2_won:\n",
    "                        display(f\"{team1} hat mehr Spiele gewonnen als {team2}.\")\n",
    "                    elif team1_won < team2_won:\n",
    "                        display(f\"{team2} hat mehr Spiele gewonnen als {team1}.\")\n",
    "                    else:\n",
    "                        display(f\"{team1} und {team2} haben gleich viele Spiele gewonnen.\")\n",
    "                else:\n",
    "                    display(\"Fehler: Ein oder beide Teams wurden nicht gefunden!\")\n",
    "            else:\n",
    "                display(\"Fehler beim Abrufen der Daten:\", response.status_code)\n",
    "\n",
    "compare_button.on_click(compare_teams)\n",
    "\n",
    "# Anzeige der Widgets\n",
    "display(liga_dropdown, jahr_dropdown, output_map, team1_dropdown, team2_dropdown, compare_button, output_comparison)\n",
    "\n",
    "# Erstmalige Daten abrufen und Karte anzeigen\n",
    "fetch_data_and_display_map(liga_dropdown.value, jahr_dropdown.value)"
   ]
  },
  {
   "cell_type": "code",
   "execution_count": null,
   "id": "2a6b8ca4-c59f-4cdc-a767-6114629d384b",
   "metadata": {},
   "outputs": [],
   "source": []
  },
  {
   "cell_type": "code",
   "execution_count": null,
   "id": "5933f331-6d38-4e28-9751-202d2b0bb2ec",
   "metadata": {},
   "outputs": [],
   "source": []
  },
  {
   "cell_type": "code",
   "execution_count": null,
   "id": "98b1136b-d65a-4333-8a2e-ee3135e41417",
   "metadata": {},
   "outputs": [],
   "source": []
  },
  {
   "cell_type": "code",
   "execution_count": null,
   "id": "5952786c-bff5-40da-b919-81e165983407",
   "metadata": {},
   "outputs": [],
   "source": []
  },
  {
   "cell_type": "code",
   "execution_count": null,
   "id": "72dc2caa-dbd1-45f5-8893-6a535c0571ff",
   "metadata": {},
   "outputs": [],
   "source": []
  }
 ],
 "metadata": {
  "kernelspec": {
   "display_name": "Python 3 (ipykernel)",
   "language": "python",
   "name": "python3"
  },
  "language_info": {
   "codemirror_mode": {
    "name": "ipython",
    "version": 3
   },
   "file_extension": ".py",
   "mimetype": "text/x-python",
   "name": "python",
   "nbconvert_exporter": "python",
   "pygments_lexer": "ipython3",
   "version": "3.11.4"
  }
 },
 "nbformat": 4,
 "nbformat_minor": 5
}
